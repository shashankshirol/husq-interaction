{
 "cells": [
  {
   "cell_type": "code",
   "execution_count": 2,
   "metadata": {},
   "outputs": [],
   "source": [
    "import pandas as pd\n",
    "from sklearn.feature_extraction.text import TfidfVectorizer\n",
    "from sklearn.cluster import KMeans"
   ]
  },
  {
   "cell_type": "code",
   "execution_count": null,
   "metadata": {},
   "outputs": [],
   "source": [
    "# Extracting the responses from the specified columns\n",
    "data = pd.read(\"main_data_processed_stripped.csv\")\n",
    "responses_interaction_2 = data['interaction_2_communicating_response']\n",
    "responses_interaction_1 = data['interaction_1_communicating_response']\n",
    "\n",
    "# Function to perform qualitative analysis and identify common themes\n",
    "def analyze_responses(responses):\n",
    "    # Vectorize the text data\n",
    "    vectorizer = TfidfVectorizer(stop_words='english')\n",
    "    X = vectorizer.fit_transform(responses)\n",
    "    \n",
    "    # Perform KMeans clustering to identify common themes\n",
    "    kmeans = KMeans(n_clusters=5, random_state=42).fit(X)\n",
    "    labels = kmeans.labels_\n",
    "    \n",
    "    # Add cluster labels to the original data\n",
    "    data['cluster'] = labels\n",
    "    \n",
    "    # Analyze the top terms in each cluster\n",
    "    order_centroids = kmeans.cluster_centers_.argsort()[:, ::-1]\n",
    "    terms = vectorizer.get_feature_names_out()\n",
    "    \n",
    "    cluster_terms = {}\n",
    "    for i in range(5):\n",
    "        cluster_terms[i] = [terms[ind] for ind in order_centroids[i, :10]]\n",
    "    \n",
    "    return cluster_terms\n",
    "\n",
    "# Analyzing responses for \"interaction_2_communicating_response\"\n",
    "cluster_terms_interaction_2 = analyze_responses(responses_interaction_2)\n",
    "\n",
    "# Analyzing responses for \"interaction_1_communicating_response\"\n",
    "cluster_terms_interaction_1 = analyze_responses(responses_interaction_1)\n",
    "\n",
    "cluster_terms_interaction_2, cluster_terms_interaction_1\n"
   ]
  }
 ],
 "metadata": {
  "kernelspec": {
   "display_name": "data_analysis",
   "language": "python",
   "name": "python3"
  },
  "language_info": {
   "codemirror_mode": {
    "name": "ipython",
    "version": 3
   },
   "file_extension": ".py",
   "mimetype": "text/x-python",
   "name": "python",
   "nbconvert_exporter": "python",
   "pygments_lexer": "ipython3",
   "version": "3.9.6"
  }
 },
 "nbformat": 4,
 "nbformat_minor": 2
}
