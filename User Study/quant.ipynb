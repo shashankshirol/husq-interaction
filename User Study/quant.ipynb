{
 "cells": [
  {
   "cell_type": "code",
   "execution_count": 19,
   "metadata": {},
   "outputs": [],
   "source": [
    "import matplotlib.pyplot as plt\n",
    "import pandas as pd\n",
    "import numpy as np\n",
    "\n",
    "pd.set_option('display.max_columns', 500)\n",
    "pd.set_option('display.max_rows', 500)\n",
    "\n",
    "df = pd.read_csv(\"main_data_processed_stripped.csv\")"
   ]
  },
  {
   "cell_type": "code",
   "execution_count": 20,
   "metadata": {},
   "outputs": [],
   "source": [
    "response_mapping = {\n",
    "    \"Strongly agree\": 5,\n",
    "    \"Somewhat agree\": 4,\n",
    "    \"Neither agree nor disagree\": 3,\n",
    "    \"Somewhat disagree\": 2,\n",
    "    \"Strongly disagree\": 1,\n",
    "}"
   ]
  },
  {
   "cell_type": "code",
   "execution_count": 63,
   "metadata": {},
   "outputs": [
    {
     "name": "stdout",
     "output_type": "stream",
     "text": [
      "            trust  general_trust\n",
      "count  294.000000     294.000000\n",
      "mean     3.840136       3.340136\n",
      "std      0.976667       1.011852\n",
      "min      1.000000       1.000000\n",
      "25%      3.000000       3.000000\n",
      "50%      4.000000       4.000000\n",
      "75%      4.000000       4.000000\n",
      "max      5.000000       5.000000\n",
      "trust            4.0\n",
      "general_trust    4.0\n",
      "dtype: float64\n",
      "   trust  general_trust\n",
      "0      4              4\n",
      "                 trust  general_trust\n",
      "trust          1.00000        0.29696\n",
      "general_trust  0.29696        1.00000\n"
     ]
    }
   ],
   "source": [
    "# Reapply the mapping and handle unmapped values explicitly\n",
    "trust_data = df[['trust', 'general_trust']].copy()\n",
    "trust_data['trust'] = trust_data['trust'].map(response_mapping)\n",
    "trust_data['general_trust'] = trust_data['general_trust'].map(response_mapping)\n",
    "\n",
    "# Drop rows with missing values after the mapping\n",
    "trust_data = trust_data.dropna()\n",
    "\n",
    "# Recalculate basic statistics and correlation\n",
    "trust_stats = trust_data.describe()\n",
    "print(trust_stats)\n",
    "print(trust_data.median())\n",
    "print(trust_data.mode())\n",
    "trust_correlation = trust_data.corr()\n",
    "print(trust_correlation)"
   ]
  },
  {
   "cell_type": "code",
   "execution_count": 53,
   "metadata": {},
   "outputs": [
    {
     "data": {
      "text/plain": [
       "4.0"
      ]
     },
     "execution_count": 53,
     "metadata": {},
     "output_type": "execute_result"
    }
   ],
   "source": [
    "import numpy as np\n",
    "np.quantile(trust_data[\"trust\"], 0.75)"
   ]
  },
  {
   "cell_type": "code",
   "execution_count": 8,
   "metadata": {},
   "outputs": [],
   "source": [
    "trust_parity = trust_data[(trust_data[\"general_trust\"] < 3) & (trust_data[\"trust\"] >= 3)]"
   ]
  },
  {
   "cell_type": "code",
   "execution_count": 9,
   "metadata": {},
   "outputs": [
    {
     "data": {
      "text/html": [
       "<div>\n",
       "<style scoped>\n",
       "    .dataframe tbody tr th:only-of-type {\n",
       "        vertical-align: middle;\n",
       "    }\n",
       "\n",
       "    .dataframe tbody tr th {\n",
       "        vertical-align: top;\n",
       "    }\n",
       "\n",
       "    .dataframe thead th {\n",
       "        text-align: right;\n",
       "    }\n",
       "</style>\n",
       "<table border=\"1\" class=\"dataframe\">\n",
       "  <thead>\n",
       "    <tr style=\"text-align: right;\">\n",
       "      <th></th>\n",
       "      <th>trust</th>\n",
       "      <th>general_trust</th>\n",
       "    </tr>\n",
       "  </thead>\n",
       "  <tbody>\n",
       "    <tr>\n",
       "      <th>count</th>\n",
       "      <td>50.000000</td>\n",
       "      <td>50.000000</td>\n",
       "    </tr>\n",
       "    <tr>\n",
       "      <th>mean</th>\n",
       "      <td>3.860000</td>\n",
       "      <td>1.880000</td>\n",
       "    </tr>\n",
       "    <tr>\n",
       "      <th>std</th>\n",
       "      <td>0.670364</td>\n",
       "      <td>0.328261</td>\n",
       "    </tr>\n",
       "    <tr>\n",
       "      <th>min</th>\n",
       "      <td>3.000000</td>\n",
       "      <td>1.000000</td>\n",
       "    </tr>\n",
       "    <tr>\n",
       "      <th>25%</th>\n",
       "      <td>3.000000</td>\n",
       "      <td>2.000000</td>\n",
       "    </tr>\n",
       "    <tr>\n",
       "      <th>50%</th>\n",
       "      <td>4.000000</td>\n",
       "      <td>2.000000</td>\n",
       "    </tr>\n",
       "    <tr>\n",
       "      <th>75%</th>\n",
       "      <td>4.000000</td>\n",
       "      <td>2.000000</td>\n",
       "    </tr>\n",
       "    <tr>\n",
       "      <th>max</th>\n",
       "      <td>5.000000</td>\n",
       "      <td>2.000000</td>\n",
       "    </tr>\n",
       "  </tbody>\n",
       "</table>\n",
       "</div>"
      ],
      "text/plain": [
       "           trust  general_trust\n",
       "count  50.000000      50.000000\n",
       "mean    3.860000       1.880000\n",
       "std     0.670364       0.328261\n",
       "min     3.000000       1.000000\n",
       "25%     3.000000       2.000000\n",
       "50%     4.000000       2.000000\n",
       "75%     4.000000       2.000000\n",
       "max     5.000000       2.000000"
      ]
     },
     "execution_count": 9,
     "metadata": {},
     "output_type": "execute_result"
    }
   ],
   "source": [
    "trust_parity.describe()"
   ]
  },
  {
   "cell_type": "code",
   "execution_count": 23,
   "metadata": {},
   "outputs": [
    {
     "data": {
      "text/plain": [
       "MannwhitneyuResult(statistic=55507.5, pvalue=1.0656697718177726e-10)"
      ]
     },
     "execution_count": 23,
     "metadata": {},
     "output_type": "execute_result"
    }
   ],
   "source": [
    "from scipy.stats import mannwhitneyu\n",
    "\n",
    "mannwhitneyu(trust_data[\"trust\"], trust_data[\"general_trust\"], alternative='greater')"
   ]
  },
  {
   "cell_type": "code",
   "execution_count": 32,
   "metadata": {},
   "outputs": [
    {
     "data": {
      "text/plain": [
       "<Axes: xlabel='general_trust', ylabel='count'>"
      ]
     },
     "execution_count": 32,
     "metadata": {},
     "output_type": "execute_result"
    },
    {
     "data": {
      "image/png": "[encoded data removed]",
      "text/plain": [
       "<Figure size 640x480 with 2 Axes>"
      ]
     },
     "metadata": {},
     "output_type": "display_data"
    }
   ],
   "source": [
    "import seaborn as sns\n",
    "\n",
    "fig, axs = plt.subplots(ncols=2)\n",
    "fig.tight_layout()\n",
    "\n",
    "sns.countplot(x=\"trust\", data=trust_data, ax=axs[0])\n",
    "sns.countplot(x=\"general_trust\", data=trust_data, ax=axs[1])"
   ]
  },
  {
   "cell_type": "code",
   "execution_count": 54,
   "metadata": {},
   "outputs": [
    {
     "name": "stdout",
     "output_type": "stream",
     "text": [
      "             safe  general_safe\n",
      "count  294.000000    294.000000\n",
      "mean     3.931973      3.428571\n",
      "std      1.016316      1.051571\n",
      "min      1.000000      1.000000\n",
      "25%      4.000000      3.000000\n",
      "50%      4.000000      4.000000\n",
      "75%      5.000000      4.000000\n",
      "max      5.000000      5.000000\n",
      "safe            4.0\n",
      "general_safe    4.0\n",
      "dtype: float64\n",
      "   safe  general_safe\n",
      "0     4             4\n",
      "                  safe  general_safe\n",
      "safe          1.000000      0.397817\n",
      "general_safe  0.397817      1.000000\n"
     ]
    }
   ],
   "source": [
    "# Reapply the mapping and handle unmapped values explicitly\n",
    "safety_data = df[['safe', 'general_safe']].copy()\n",
    "safety_data['safe'] = safety_data['safe'].map(response_mapping)\n",
    "safety_data['general_safe'] = safety_data['general_safe'].map(response_mapping)\n",
    "\n",
    "# Drop rows with missing values after the mapping\n",
    "safety_data = safety_data.dropna()\n",
    "\n",
    "# Recalculate basic statistics and correlation\n",
    "safety_stats = safety_data.describe()\n",
    "print(safety_stats)\n",
    "print(safety_data.median())\n",
    "print(safety_data.mode())\n",
    "safety_correlation = safety_data.corr()\n",
    "print(safety_correlation)"
   ]
  },
  {
   "cell_type": "code",
   "execution_count": 37,
   "metadata": {},
   "outputs": [
    {
     "data": {
      "text/plain": [
       "<Axes: xlabel='general_safe', ylabel='count'>"
      ]
     },
     "execution_count": 37,
     "metadata": {},
     "output_type": "execute_result"
    },
    {
     "data": {
      "image/png": "[encoded data removed]",
      "text/plain": [
       "<Figure size 640x480 with 2 Axes>"
      ]
     },
     "metadata": {},
     "output_type": "display_data"
    }
   ],
   "source": [
    "import seaborn as sns\n",
    "\n",
    "fig, axs = plt.subplots(ncols=2)\n",
    "fig.tight_layout()\n",
    "\n",
    "sns.countplot(x=\"safe\", data=safety_data, ax=axs[0])\n",
    "sns.countplot(x=\"general_safe\", data=safety_data, ax=axs[1])"
   ]
  },
  {
   "cell_type": "code",
   "execution_count": 39,
   "metadata": {},
   "outputs": [
    {
     "data": {
      "text/plain": [
       "(92, 2)"
      ]
     },
     "execution_count": 39,
     "metadata": {},
     "output_type": "execute_result"
    }
   ],
   "source": [
    "safety_data[(safety_data[\"safe\"] > 3) & (safety_data[\"general_safe\"] <= 3)].shape"
   ]
  },
  {
   "cell_type": "code",
   "execution_count": 41,
   "metadata": {},
   "outputs": [
    {
     "data": {
      "text/plain": [
       "MannwhitneyuResult(statistic=55690.5, pvalue=7.0523794887977e-11)"
      ]
     },
     "execution_count": 41,
     "metadata": {},
     "output_type": "execute_result"
    }
   ],
   "source": [
    "from scipy.stats import mannwhitneyu\n",
    "\n",
    "mannwhitneyu(safety_data[\"safe\"], safety_data[\"general_safe\"], alternative='greater')"
   ]
  },
  {
   "cell_type": "code",
   "execution_count": 45,
   "metadata": {},
   "outputs": [],
   "source": [
    "improved_perception = df[\"improved_perception\"]\n",
    "improved_perception = improved_perception.map(response_mapping)"
   ]
  },
  {
   "cell_type": "code",
   "execution_count": 49,
   "metadata": {},
   "outputs": [
    {
     "data": {
      "text/plain": [
       "improved_perception\n",
       "4    122\n",
       "5     94\n",
       "3     51\n",
       "2     19\n",
       "1      8\n",
       "Name: count, dtype: int64"
      ]
     },
     "execution_count": 49,
     "metadata": {},
     "output_type": "execute_result"
    }
   ],
   "source": [
    "improved_perception.value_counts()"
   ]
  },
  {
   "cell_type": "code",
   "execution_count": 72,
   "metadata": {},
   "outputs": [
    {
     "data": {
      "text/plain": [
       "count    294.000000\n",
       "mean       4.340136\n",
       "std        0.800994\n",
       "min        1.000000\n",
       "25%        4.000000\n",
       "50%        4.000000\n",
       "75%        5.000000\n",
       "max        5.000000\n",
       "Name: intent_communication_makes_user_comfortable, dtype: float64"
      ]
     },
     "execution_count": 72,
     "metadata": {},
     "output_type": "execute_result"
    }
   ],
   "source": [
    "intent_comm = df[\"intent_communication_makes_user_comfortable\"].map(response_mapping)\n",
    "intent_comm.describe()"
   ]
  },
  {
   "cell_type": "code",
   "execution_count": 73,
   "metadata": {},
   "outputs": [
    {
     "data": {
      "text/plain": [
       "4.0"
      ]
     },
     "execution_count": 73,
     "metadata": {},
     "output_type": "execute_result"
    }
   ],
   "source": [
    "intent_comm.median()"
   ]
  },
  {
   "cell_type": "markdown",
   "metadata": {},
   "source": [
    "## Cronbach's Alpha"
   ]
  },
  {
   "cell_type": "code",
   "execution_count": 70,
   "metadata": {},
   "outputs": [
    {
     "name": "stdout",
     "output_type": "stream",
     "text": [
      "Cronbach's alpha: 0.87\n"
     ]
    }
   ],
   "source": [
    "import pingouin as pg\n",
    "\n",
    "social_behaviour = df[[\"trust\", \"safe\", \"improved_perception\", \"displayed_social_behaviours\"]].copy()\n",
    "for col in social_behaviour.columns:\n",
    "    social_behaviour[col] = social_behaviour[col].map(response_mapping)\n",
    "\n",
    "alpha, _ = pg.cronbach_alpha(social_behaviour)\n",
    "print(f'Cronbach\\'s alpha: {alpha:.2f}')"
   ]
  },
  {
   "cell_type": "code",
   "execution_count": null,
   "metadata": {},
   "outputs": [],
   "source": []
  }
 ],
 "metadata": {
  "kernelspec": {
   "display_name": "data_analysis",
   "language": "python",
   "name": "python3"
  },
  "language_info": {
   "codemirror_mode": {
    "name": "ipython",
    "version": 3
   },
   "file_extension": ".py",
   "mimetype": "text/x-python",
   "name": "python",
   "nbconvert_exporter": "python",
   "pygments_lexer": "ipython3",
   "version": "3.9.6"
  }
 },
 "nbformat": 4,
 "nbformat_minor": 2
}
